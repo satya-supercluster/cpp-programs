{
 "cells": [
  {
   "cell_type": "code",
   "execution_count": 1,
   "id": "436e414b",
   "metadata": {},
   "outputs": [],
   "source": [
    "import numpy as np"
   ]
  },
  {
   "cell_type": "code",
   "execution_count": 5,
   "id": "b80ebb31",
   "metadata": {},
   "outputs": [
    {
     "data": {
      "text/plain": [
       "array([[1, 1, 1, 1],\n",
       "       [1, 1, 1, 1],\n",
       "       [1, 1, 1, 1]])"
      ]
     },
     "execution_count": 5,
     "metadata": {},
     "output_type": "execute_result"
    }
   ],
   "source": [
    "A=np.ones((3,4),dtype=int)\n",
    "A"
   ]
  },
  {
   "cell_type": "code",
   "execution_count": 6,
   "id": "59f82b0b",
   "metadata": {},
   "outputs": [
    {
     "data": {
      "text/plain": [
       "array([[False, False, False, False, False],\n",
       "       [False, False, False, False, False],\n",
       "       [False, False, False, False, False],\n",
       "       [False, False, False, False, False],\n",
       "       [False, False, False, False, False]])"
      ]
     },
     "execution_count": 6,
     "metadata": {},
     "output_type": "execute_result"
    }
   ],
   "source": [
    "A=np.zeros((5,5),dtype=bool)\n",
    "A"
   ]
  },
  {
   "cell_type": "code",
   "execution_count": 7,
   "id": "9a6f8440",
   "metadata": {},
   "outputs": [
    {
     "data": {
      "text/plain": [
       "array([[  912553163,   712393111],\n",
       "       [-1490443010, -1942943031]])"
      ]
     },
     "execution_count": 7,
     "metadata": {},
     "output_type": "execute_result"
    }
   ],
   "source": [
    "empty=np.empty((2,2),dtype=int)\n",
    "empty"
   ]
  },
  {
   "cell_type": "code",
   "execution_count": 8,
   "id": "91e79d1d",
   "metadata": {},
   "outputs": [
    {
     "data": {
      "text/plain": [
       "array([[ True,  True,  True,  True,  True],\n",
       "       [ True,  True,  True,  True,  True],\n",
       "       [ True,  True,  True,  True,  True],\n",
       "       [ True,  True,  True,  True,  True],\n",
       "       [ True,  True,  True,  True,  True]])"
      ]
     },
     "execution_count": 8,
     "metadata": {},
     "output_type": "execute_result"
    }
   ],
   "source": [
    "A=np.ones((5,5),dtype=bool)\n",
    "A"
   ]
  },
  {
   "cell_type": "code",
   "execution_count": 32,
   "id": "d34c37be",
   "metadata": {},
   "outputs": [
    {
     "data": {
      "text/plain": [
       "array([ 1,  3,  5,  7,  9, 11, 13, 15, 17, 19, 21, 23, 25, 27, 29, 31, 33,\n",
       "       35, 37, 39, 41, 43, 45, 47, 49])"
      ]
     },
     "execution_count": 32,
     "metadata": {},
     "output_type": "execute_result"
    }
   ],
   "source": [
    "A=np.arange(1,51,2)\n",
    "A"
   ]
  },
  {
   "cell_type": "code",
   "execution_count": 33,
   "id": "7eb06a56",
   "metadata": {},
   "outputs": [
    {
     "data": {
      "text/plain": [
       "array([[ 1,  3,  5,  7,  9],\n",
       "       [11, 13, 15, 17, 19],\n",
       "       [21, 23, 25, 27, 29],\n",
       "       [31, 33, 35, 37, 39],\n",
       "       [41, 43, 45, 47, 49]])"
      ]
     },
     "execution_count": 33,
     "metadata": {},
     "output_type": "execute_result"
    }
   ],
   "source": [
    "B=A.reshape(5,5)\n",
    "B"
   ]
  },
  {
   "cell_type": "code",
   "execution_count": 24,
   "id": "434368a6",
   "metadata": {},
   "outputs": [],
   "source": [
    "C=B.ravel()"
   ]
  },
  {
   "cell_type": "code",
   "execution_count": 26,
   "id": "afd23a27",
   "metadata": {},
   "outputs": [],
   "source": [
    "C[2]=555"
   ]
  },
  {
   "cell_type": "code",
   "execution_count": 27,
   "id": "f5e013d5",
   "metadata": {},
   "outputs": [
    {
     "data": {
      "text/plain": [
       "array([  1,   3, 555,   7,   9,  11,  13,  15,  17,  19,  21,  23,  25,\n",
       "        27,  29,  31,  33,  35,  37,  39,  41,  43,  45,  47,  49])"
      ]
     },
     "execution_count": 27,
     "metadata": {},
     "output_type": "execute_result"
    }
   ],
   "source": [
    "C"
   ]
  },
  {
   "cell_type": "code",
   "execution_count": 28,
   "id": "ae177dcf",
   "metadata": {},
   "outputs": [
    {
     "data": {
      "text/plain": [
       "array([[  1,   3, 555,   7,   9],\n",
       "       [ 11,  13,  15,  17,  19],\n",
       "       [ 21,  23,  25,  27,  29],\n",
       "       [ 31,  33,  35,  37,  39],\n",
       "       [ 41,  43,  45,  47,  49]])"
      ]
     },
     "execution_count": 28,
     "metadata": {},
     "output_type": "execute_result"
    }
   ],
   "source": [
    "B"
   ]
  },
  {
   "cell_type": "code",
   "execution_count": 34,
   "id": "acff61d7",
   "metadata": {},
   "outputs": [
    {
     "data": {
      "text/plain": [
       "array([ 1,  3,  5,  7,  9, 11, 13, 15, 17, 19, 21, 23, 25, 27, 29, 31, 33,\n",
       "       35, 37, 39, 41, 43, 45, 47, 49])"
      ]
     },
     "execution_count": 34,
     "metadata": {},
     "output_type": "execute_result"
    }
   ],
   "source": [
    "D=B.flatten()\n",
    "D"
   ]
  },
  {
   "cell_type": "code",
   "execution_count": 35,
   "id": "49a24ebc",
   "metadata": {},
   "outputs": [
    {
     "data": {
      "text/plain": [
       "array([  1,   3, 556,   7,   9,  11,  13,  15,  17,  19,  21,  23,  25,\n",
       "        27,  29,  31,  33,  35,  37,  39,  41,  43,  45,  47,  49])"
      ]
     },
     "execution_count": 35,
     "metadata": {},
     "output_type": "execute_result"
    }
   ],
   "source": [
    "D[2]=556\n",
    "D"
   ]
  },
  {
   "cell_type": "code",
   "execution_count": 36,
   "id": "95dd3066",
   "metadata": {},
   "outputs": [
    {
     "data": {
      "text/plain": [
       "array([[ 1,  3,  5,  7,  9],\n",
       "       [11, 13, 15, 17, 19],\n",
       "       [21, 23, 25, 27, 29],\n",
       "       [31, 33, 35, 37, 39],\n",
       "       [41, 43, 45, 47, 49]])"
      ]
     },
     "execution_count": 36,
     "metadata": {},
     "output_type": "execute_result"
    }
   ],
   "source": [
    "B"
   ]
  },
  {
   "cell_type": "code",
   "execution_count": 38,
   "id": "8a6ec487",
   "metadata": {},
   "outputs": [
    {
     "data": {
      "text/plain": [
       "array([[ 1, 11, 21, 31, 41],\n",
       "       [ 3, 13, 23, 33, 43],\n",
       "       [ 5, 15, 25, 35, 45],\n",
       "       [ 7, 17, 27, 37, 47],\n",
       "       [ 9, 19, 29, 39, 49]])"
      ]
     },
     "execution_count": 38,
     "metadata": {},
     "output_type": "execute_result"
    }
   ],
   "source": [
    "C=B.transpose()\n",
    "C"
   ]
  },
  {
   "cell_type": "code",
   "execution_count": 43,
   "id": "6e8ffe75",
   "metadata": {},
   "outputs": [
    {
     "data": {
      "text/plain": [
       "array([[  2836125,   8242375,  13648625,  19054875,  24461125],\n",
       "       [  8242375,  23961125,  39679875,  55398625,  71117375],\n",
       "       [ 13648625,  39679875,  65711125,  91742375, 117773625],\n",
       "       [ 19054875,  55398625,  91742375, 128086125, 164429875],\n",
       "       [ 24461125,  71117375, 117773625, 164429875, 211086125]])"
      ]
     },
     "execution_count": 43,
     "metadata": {},
     "output_type": "execute_result"
    }
   ],
   "source": [
    "B@C@B@C"
   ]
  },
  {
   "cell_type": "code",
   "execution_count": null,
   "id": "abef54a8",
   "metadata": {},
   "outputs": [],
   "source": []
  }
 ],
 "metadata": {
  "kernelspec": {
   "display_name": "Python 3 (ipykernel)",
   "language": "python",
   "name": "python3"
  },
  "language_info": {
   "codemirror_mode": {
    "name": "ipython",
    "version": 3
   },
   "file_extension": ".py",
   "mimetype": "text/x-python",
   "name": "python",
   "nbconvert_exporter": "python",
   "pygments_lexer": "ipython3",
   "version": "3.11.7"
  }
 },
 "nbformat": 4,
 "nbformat_minor": 5
}
