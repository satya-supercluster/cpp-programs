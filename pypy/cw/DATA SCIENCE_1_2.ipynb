{
 "cells": [
  {
   "cell_type": "code",
   "execution_count": 44,
   "id": "02c2c722",
   "metadata": {},
   "outputs": [],
   "source": [
    "import pandas as pd\n",
    "data={\n",
    "    'Name': ['John', 'Emma', 'Sam', 'Lisa', 'Tom'],\n",
    "    'Age': [25, 30, 28, 32, 27],\n",
    "    'Country': ['USA', 'Canada', 'Australia', 'UK', 'Germany'],\n",
    "    'Salary': [50000, 60000, 55000, 70000, 52000]\n",
    "}\n",
    "df=pd.DataFrame(data)"
   ]
  },
  {
   "cell_type": "code",
   "execution_count": 47,
   "id": "f227296b",
   "metadata": {},
   "outputs": [
    {
     "name": "stdout",
     "output_type": "stream",
     "text": [
      "[A]: Given DataFrame:\n",
      "   Name  Age    Country  Salary\n",
      "0  John   25        USA   50000\n",
      "1  Emma   30     Canada   60000\n",
      "2   Sam   28  Australia   55000\n",
      "3  Lisa   32         UK   70000\n",
      "4   Tom   27    Germany   52000\n"
     ]
    }
   ],
   "source": [
    "print(\"[A]: Given DataFrame:\")\n",
    "print(df)"
   ]
  },
  {
   "cell_type": "code",
   "execution_count": 49,
   "id": "7eaa7536",
   "metadata": {},
   "outputs": [
    {
     "name": "stdout",
     "output_type": "stream",
     "text": [
      "[B]: Name and Age Column:\n",
      "   Name  Age\n",
      "0  John   25\n",
      "1  Emma   30\n",
      "2   Sam   28\n",
      "3  Lisa   32\n",
      "4   Tom   27\n"
     ]
    }
   ],
   "source": [
    "print(\"[B]: Name and Age Column:\")\n",
    "print(df[['Name','Age']])"
   ]
  },
  {
   "cell_type": "code",
   "execution_count": 51,
   "id": "e27bc38c",
   "metadata": {},
   "outputs": [
    {
     "name": "stdout",
     "output_type": "stream",
     "text": [
      "[C]: Data frame where Country is USA:\n",
      "   Name  Age Country  Salary\n",
      "0  John   25     USA   50000\n"
     ]
    }
   ],
   "source": [
    "print(\"[C]: Data frame where Country is USA:\")\n",
    "print(df[df['Country'] == 'USA'])"
   ]
  },
  {
   "cell_type": "code",
   "execution_count": 53,
   "id": "4826ac72",
   "metadata": {},
   "outputs": [
    {
     "name": "stdout",
     "output_type": "stream",
     "text": [
      "[D]: Data frame in decreasing order of salary:\n",
      "   Name  Age    Country  Salary\n",
      "3  Lisa   32         UK   70000\n",
      "1  Emma   30     Canada   60000\n",
      "2   Sam   28  Australia   55000\n",
      "4   Tom   27    Germany   52000\n",
      "0  John   25        USA   50000\n"
     ]
    }
   ],
   "source": [
    "print(\"[D]: Data frame in decreasing order of salary:\")\n",
    "print(df.sort_values(by='Salary', ascending=False,inplace=False))"
   ]
  },
  {
   "cell_type": "code",
   "execution_count": 56,
   "id": "fba34b2e",
   "metadata": {},
   "outputs": [
    {
     "name": "stdout",
     "output_type": "stream",
     "text": [
      "[E]: Resultant DataFrame:\n",
      "   Name  Age    Country  Salary  Experience\n",
      "0  John   25        USA   50000           3\n",
      "1  Emma   30     Canada   60000           6\n",
      "2   Sam   28  Australia   55000           4\n",
      "3  Lisa   32         UK   70000           8\n",
      "4   Tom   27    Germany   52000           5\n"
     ]
    }
   ],
   "source": [
    "df['Experience'] = [3, 6, 4, 8, 5]\n",
    "print(\"[E]: Resultant DataFrame:\")\n",
    "print(df)"
   ]
  },
  {
   "cell_type": "code",
   "execution_count": 57,
   "id": "32f60917",
   "metadata": {},
   "outputs": [
    {
     "name": "stdout",
     "output_type": "stream",
     "text": [
      "[F]: Resultant DataFrame:\n",
      "   Name  Age    Country  Salary\n",
      "0  John   25        USA   50000\n",
      "1  Emma   30     Canada   70000\n",
      "2   Sam   28  Australia   55000\n",
      "3  Lisa   32         UK   70000\n",
      "4   Tom   27    Germany   52000\n"
     ]
    }
   ],
   "source": [
    "df.loc[df['Name'] == 'Emma', 'Salary'] = 70000\n",
    "df = df.drop('Experience', axis=1)\n",
    "print(\"[F]: Resultant DataFrame:\")\n",
    "print(df)"
   ]
  },
  {
   "cell_type": "code",
   "execution_count": null,
   "id": "48f2c265",
   "metadata": {},
   "outputs": [],
   "source": []
  }
 ],
 "metadata": {
  "kernelspec": {
   "display_name": "Python 3 (ipykernel)",
   "language": "python",
   "name": "python3"
  },
  "language_info": {
   "codemirror_mode": {
    "name": "ipython",
    "version": 3
   },
   "file_extension": ".py",
   "mimetype": "text/x-python",
   "name": "python",
   "nbconvert_exporter": "python",
   "pygments_lexer": "ipython3",
   "version": "3.11.7"
  }
 },
 "nbformat": 4,
 "nbformat_minor": 5
}
