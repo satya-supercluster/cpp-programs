{
 "cells": [
  {
   "cell_type": "code",
   "execution_count": 1,
   "id": "a66546a8",
   "metadata": {},
   "outputs": [],
   "source": [
    "import numpy as np\n",
    "A=np.array([1,2,3,4,5])\n",
    "B=np.array([6,7,8,9,10])"
   ]
  },
  {
   "cell_type": "code",
   "execution_count": 6,
   "id": "4787ef0b",
   "metadata": {},
   "outputs": [
    {
     "name": "stdout",
     "output_type": "stream",
     "text": [
      "Sum: [ 7  9 11 13 15]\n"
     ]
    }
   ],
   "source": [
    "sum=np.add(A,B)\n",
    "print(f\"Sum: {sum}\")"
   ]
  },
  {
   "cell_type": "code",
   "execution_count": 8,
   "id": "67278aa5",
   "metadata": {},
   "outputs": [
    {
     "name": "stdout",
     "output_type": "stream",
     "text": [
      "Difference: [-5 -5 -5 -5 -5]\n"
     ]
    }
   ],
   "source": [
    "diff=np.subtract(A,B)\n",
    "print(f\"Difference: {diff}\")"
   ]
  },
  {
   "cell_type": "code",
   "execution_count": 9,
   "id": "d5104093",
   "metadata": {},
   "outputs": [
    {
     "name": "stdout",
     "output_type": "stream",
     "text": [
      "Product: [ 6 14 24 36 50]\n"
     ]
    }
   ],
   "source": [
    "prod=np.multiply(A,B)\n",
    "print(f\"Product: {prod}\")"
   ]
  },
  {
   "cell_type": "code",
   "execution_count": 12,
   "id": "e207b780",
   "metadata": {},
   "outputs": [
    {
     "name": "stdout",
     "output_type": "stream",
     "text": [
      "Division: [0.16666667 0.28571429 0.375      0.44444444 0.5       ]\n"
     ]
    }
   ],
   "source": [
    "div=np.divide(A,B)\n",
    "print(f\"Division: {div}\")"
   ]
  },
  {
   "cell_type": "code",
   "execution_count": 13,
   "id": "7416ace2",
   "metadata": {},
   "outputs": [
    {
     "name": "stdout",
     "output_type": "stream",
     "text": [
      "Sqrt(A): [1.         1.41421356 1.73205081 2.         2.23606798]\n",
      "Sqrt(B): [2.44948974 2.64575131 2.82842712 3.         3.16227766]\n"
     ]
    }
   ],
   "source": [
    "sqrA=np.sqrt(A)\n",
    "sqrB=np.sqrt(B)\n",
    "print(f\"Sqrt(A): {sqrA}\")\n",
    "print(f\"Sqrt(B): {sqrB}\")"
   ]
  },
  {
   "cell_type": "code",
   "execution_count": 19,
   "id": "dae76c33",
   "metadata": {},
   "outputs": [
    {
     "name": "stdout",
     "output_type": "stream",
     "text": [
      "Max(A): 5\tMax(B): 10\n",
      "Min(A): 1\tMin(B): 6\n"
     ]
    }
   ],
   "source": [
    "maxA=np.max(A)\n",
    "maxB=np.max(B)\n",
    "minA=np.min(A)\n",
    "minB=np.min(B)\n",
    "print(f\"Max(A): {maxA}\\tMax(B): {maxB}\\nMin(A): {minA}\\tMin(B): {minB}\")"
   ]
  },
  {
   "cell_type": "code",
   "execution_count": 23,
   "id": "aadf627a",
   "metadata": {},
   "outputs": [
    {
     "name": "stdout",
     "output_type": "stream",
     "text": [
      "Mean(A): 3.0\tMean(B): 8.0\n",
      "Standard_Deviation(A): 1.4142135623730951\n",
      "Standard_Deviation(B): 1.4142135623730951\n"
     ]
    }
   ],
   "source": [
    "meanA=np.mean(A)\n",
    "meanB=np.mean(B)\n",
    "stdA=np.std(A)\n",
    "stdB=np.std(B)\n",
    "print(f\"Mean(A): {meanA}\\tMean(B): {meanB}\")\n",
    "print(f\"Standard_Deviation(A): {stdA}\\nStandard_Deviation(B): {stdB}\")"
   ]
  },
  {
   "cell_type": "code",
   "execution_count": 24,
   "id": "25389e10",
   "metadata": {},
   "outputs": [
    {
     "name": "stdout",
     "output_type": "stream",
     "text": [
      "Sum(A): 15\tSum(B): 40\n"
     ]
    }
   ],
   "source": [
    "sumA=np.sum(A)\n",
    "sumB=np.sum(B)\n",
    "print(f\"Sum(A): {sumA}\\tSum(B): {sumB}\")"
   ]
  },
  {
   "cell_type": "code",
   "execution_count": null,
   "id": "6eec5879",
   "metadata": {},
   "outputs": [],
   "source": []
  }
 ],
 "metadata": {
  "kernelspec": {
   "display_name": "Python 3 (ipykernel)",
   "language": "python",
   "name": "python3"
  },
  "language_info": {
   "codemirror_mode": {
    "name": "ipython",
    "version": 3
   },
   "file_extension": ".py",
   "mimetype": "text/x-python",
   "name": "python",
   "nbconvert_exporter": "python",
   "pygments_lexer": "ipython3",
   "version": "3.11.7"
  }
 },
 "nbformat": 4,
 "nbformat_minor": 5
}
